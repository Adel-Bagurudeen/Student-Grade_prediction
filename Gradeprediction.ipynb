{
  "nbformat": 4,
  "nbformat_minor": 0,
  "metadata": {
    "colab": {
      "provenance": []
    },
    "kernelspec": {
      "name": "python3",
      "display_name": "Python 3"
    },
    "language_info": {
      "name": "python"
    }
  },
  "cells": [
    {
      "cell_type": "markdown",
      "source": [
        "**Importing Libraries**"
      ],
      "metadata": {
        "id": "wtQEwAW7VUbF"
      }
    },
    {
      "cell_type": "code",
      "execution_count": 4,
      "metadata": {
        "id": "e_ymD0nURP5H"
      },
      "outputs": [],
      "source": [
        "import pandas as pd\n",
        "import matplotlib.pyplot as plt\n",
        "from sklearn.model_selection import train_test_split\n",
        "from sklearn.linear_model import LogisticRegression\n",
        "from sklearn.metrics import accuracy_score, confusion_matrix, classification_report\n"
      ]
    },
    {
      "cell_type": "markdown",
      "source": [
        "**Creating A Dataset**"
      ],
      "metadata": {
        "id": "8NS8kmIsVrMs"
      }
    },
    {
      "cell_type": "code",
      "source": [
        "import pandas as pd\n",
        "\n",
        "# Create a new sample dataset with same size but different values\n",
        "data = {\n",
        "    'StudyHours': [0.5, 1.2, 2.8, 4.1, 5.7, 1.1, 2.2, 3.3, 4.4, 6.5, 6.9, 8.2, 2.4, 9.1, 9.7, 0.3, 3.8, 7.6],\n",
        "    'Attendance': [48, 55, 62, 74, 81, 52, 60, 70, 84, 91, 92, 97, 58, 98, 100, 42, 77, 95],\n",
        "    'Result':     [0, 0, 0, 1, 1, 0, 0, 1, 1, 1, 1, 1, 0, 1, 1, 0, 1, 1]\n",
        "}\n",
        "\n",
        "df = pd.DataFrame(data)\n",
        "print(df.head())\n"
      ],
      "metadata": {
        "colab": {
          "base_uri": "https://localhost:8080/"
        },
        "id": "7NhpcPsaVexH",
        "outputId": "a8d53201-3f30-418c-aea8-0f5ca905d64e"
      },
      "execution_count": 5,
      "outputs": [
        {
          "output_type": "stream",
          "name": "stdout",
          "text": [
            "   StudyHours  Attendance  Result\n",
            "0         0.5          48       0\n",
            "1         1.2          55       0\n",
            "2         2.8          62       0\n",
            "3         4.1          74       1\n",
            "4         5.7          81       1\n"
          ]
        }
      ]
    },
    {
      "cell_type": "markdown",
      "source": [
        "**Creating A Scatter Plot to Visualize data**"
      ],
      "metadata": {
        "id": "VFgbpflhV7-D"
      }
    },
    {
      "cell_type": "code",
      "source": [
        "plt.scatter(df['StudyHours'], df['Attendance'], c=df['Result'], cmap='bwr')\n",
        "plt.xlabel('Study Hours')\n",
        "plt.ylabel('Attendance')\n",
        "plt.title('Student Performance')\n",
        "plt.show()"
      ],
      "metadata": {
        "colab": {
          "base_uri": "https://localhost:8080/",
          "height": 472
        },
        "id": "fWW3vwPRWPv7",
        "outputId": "9813cee1-2067-41ff-f3ee-e92051c8263d"
      },
      "execution_count": 6,
      "outputs": [
        {
          "output_type": "display_data",
          "data": {
            "text/plain": [
              "<Figure size 640x480 with 1 Axes>"
            ],
            "image/png": "[encoded data removed]"
          },
          "metadata": {}
        }
      ]
    },
    {
      "cell_type": "markdown",
      "source": [
        "**Build And Train Model**"
      ],
      "metadata": {
        "id": "YDS36c1NWWxK"
      }
    },
    {
      "cell_type": "code",
      "source": [
        "X = df[['StudyHours', 'Attendance']]\n",
        "y = df['Result']\n",
        "\n",
        "X_train, X_test, y_train, y_test = train_test_split(X, y, test_size=0.2, random_state=42)\n",
        "\n",
        "model = LogisticRegression()\n",
        "model.fit(X_train, y_train)\n",
        "\n",
        "y_pred = model.predict(X_test)\n",
        "\n",
        "print(\"Accuracy:\", accuracy_score(y_test, y_pred))"
      ],
      "metadata": {
        "colab": {
          "base_uri": "https://localhost:8080/"
        },
        "id": "c6DQqmO8Wdzg",
        "outputId": "d23412c1-8b56-4df5-968d-630c0af57cf3"
      },
      "execution_count": 7,
      "outputs": [
        {
          "output_type": "stream",
          "name": "stdout",
          "text": [
            "Accuracy: 1.0\n"
          ]
        }
      ]
    },
    {
      "cell_type": "markdown",
      "source": [
        "**Prediction Of New Student**"
      ],
      "metadata": {
        "id": "iMuA4DcXWi5m"
      }
    },
    {
      "cell_type": "code",
      "source": [
        "new_data = pd.DataFrame({'StudyHours': [4], 'Attendance': [80]})\n",
        "prediction = model.predict(new_data)\n",
        "print(\"Prediction (1=Pass, 0=Fail):\", prediction[0])"
      ],
      "metadata": {
        "id": "keqEbF_AWoLu",
        "outputId": "58636839-b295-4f45-b22e-53dc6efc8f31",
        "colab": {
          "base_uri": "https://localhost:8080/"
        }
      },
      "execution_count": 8,
      "outputs": [
        {
          "output_type": "stream",
          "name": "stdout",
          "text": [
            "Prediction (1=Pass, 0=Fail): 1\n"
          ]
        }
      ]
    }
  ]
}